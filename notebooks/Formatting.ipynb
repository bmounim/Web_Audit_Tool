{
 "cells": [
  {
   "cell_type": "code",
   "execution_count": 4,
   "metadata": {},
   "outputs": [
    {
     "name": "stdout",
     "output_type": "stream",
     "text": [
      "Processed screencapture-1jour1vin-fr-2024-02-09-16_47_27.png\n",
      "Processed screencapture-ae-us-en-2024-02-09-18_13_25.png\n",
      "Processed screencapture-ae-us-en-2024-02-09-18_13_38.png\n",
      "Processed screencapture-anuts-nuts-2024-02-09-18_15_48.png\n",
      "Processed screencapture-anuts-nuts-2024-02-09-18_16_07.png\n",
      "Processed screencapture-ar-bloomingdales-ae-2024-02-09-18_06_47.png\n",
      "Processed screencapture-ar-elilhaam-2024-02-09-18_00_28.png\n",
      "Processed screencapture-aries-vins-2024-02-09-16_47_17.png\n",
      "Processed screencapture-bambinifashion-season-sale-2024-02-09-18_16_25.png\n",
      "Processed screencapture-bauhaus-es-2024-02-09-16_45_07.png\n",
      "Processed screencapture-bbqgalore-2024-02-09-18_15_21.png\n",
      "Processed screencapture-beautybay-2024-02-09-18_15_01.png\n",
      "Processed screencapture-beliani-es-2024-02-09-16_41_23.png\n",
      "Processed screencapture-cafe-co-jp-2024-02-09-18_12_08.png\n",
      "Processed screencapture-carrefour-es-2024-02-09-16_41_39.png\n",
      "Processed screencapture-covearth-co-jp-2024-02-09-18_12_20.png\n",
      "Processed screencapture-decathlon-es-es-2024-02-09-16_39_28.png\n",
      "Processed screencapture-decathlon-fr-boutiques-on-skie-on-joue-on-glisse-dans-la-neige-2024-02-09-16_49_39.png\n",
      "Processed screencapture-decathlon-fr-boutiques-on-skie-on-joue-on-glisse-dans-la-neige-2024-02-09-16_49_52.png\n",
      "Processed screencapture-en-kw-sssports-2024-02-09-18_00_57.png\n",
      "Processed screencapture-en-kw-sssports-2024-02-09-18_01_21.png\n",
      "Processed screencapture-footlocker-ae-ar-2024-02-09-18_05_51.png\n",
      "Processed screencapture-fordeal-ar-AE-2024-02-09-18_07_44.png\n",
      "Processed screencapture-fressnapf-de-2024-02-09-16_35_58.png\n",
      "Processed screencapture-gute-weine-de-2024-02-09-16_33_52.png\n",
      "Processed screencapture-hirocoffee-jp-2024-02-09-18_10_32.png\n",
      "Processed screencapture-houseofshoes-de-2024-02-09-16_33_05.png\n",
      "Processed screencapture-jdsports-de-2024-02-09-16_35_44.png\n",
      "Processed screencapture-jdsports-fr-2024-02-09-16_50_09.png\n",
      "Processed screencapture-kaffekapslen-es-2024-02-09-16_40_57.png\n",
      "Processed screencapture-kaufland-de-2024-02-09-16_28_51.png\n",
      "Processed screencapture-kohls-2024-02-09-18_13_51.png\n",
      "Processed screencapture-lecoffeelab-fr-2024-02-09-16_46_42.png\n",
      "Processed screencapture-likaman-net-2024-02-09-18_11_10.png\n",
      "Processed screencapture-manomano-es-2024-02-09-16_41_05.png\n",
      "Processed screencapture-miraido-onlineshop-2024-02-09-18_11_38.png\n",
      "Processed screencapture-mothercare-ae-ar-2024-02-09-18_07_19.png\n",
      "Processed screencapture-namshi-uae-en-men-2024-02-09-18_00_07.png\n",
      "Processed screencapture-net-a-porter-zh-jp-2024-02-09-18_10_21.png\n",
      "Processed screencapture-nike-fr-2024-02-09-16_49_12.png\n",
      "Processed screencapture-nike-jp-2024-02-09-18_09_36.png\n",
      "Processed screencapture-noon-uae-ar-2024-02-09-18_02_51.png\n",
      "Processed screencapture-parfois-de-de-home-2024-02-09-16_38_08.png\n",
      "Processed screencapture-parfois-es-es-home-2024-02-09-16_40_24.png\n",
      "Processed screencapture-parfois-fr-fr-home-2024-02-09-16_47_47.png\n",
      "Processed screencapture-prodirectsport-es-2024-02-09-16_40_14.png\n",
      "Processed screencapture-prodirectsport-fr-2024-02-09-16_48_01.png\n",
      "Processed screencapture-randbfashion-ar-ae-2024-02-09-18_06_26.png\n",
      "Processed screencapture-reichelt-de-2024-02-09-16_36_37.png\n",
      "Processed screencapture-sephora-2024-02-09-18_14_27.png\n",
      "Processed screencapture-shinanoya-tokyo-jp-2024-02-09-18_10_57.png\n",
      "Processed screencapture-shopwinedirect-2024-02-09-18_15_38.png\n",
      "Processed screencapture-sklum-es-2024-02-09-16_41_52.png\n",
      "Processed screencapture-sklum-es-2024-02-09-16_44_40.png\n",
      "Processed screencapture-spreadshirt-fr-2024-02-09-16_48_24.png\n",
      "Processed screencapture-storeus-2024-02-09-18_08_14.png\n",
      "Processed screencapture-underarmour-en-us-2024-02-09-18_14_41.png\n",
      "Processed screencapture-veepee-de-gr-home-default-2024-02-09-16_36_13.png\n",
      "Processed screencapture-vinatis-2024-02-09-16_46_57.png\n",
      "Processed screencapture-vinatis-es-2024-02-09-16_40_39.png\n",
      "Processed screencapture-zozo-jp-2024-02-09-18_10_02.png\n"
     ]
    }
   ],
   "source": [
    "from PIL import Image\n",
    "import os\n",
    "\n",
    "def split_image_horizontally(input_folder, output_folder, num_splits=20):\n",
    "    # Ensure the output directory exists\n",
    "    if not os.path.exists(output_folder):\n",
    "        os.makedirs(output_folder)\n",
    "\n",
    "    # Iterate through each image in the input folder\n",
    "    for filename in os.listdir(input_folder):\n",
    "        if filename.lower().endswith(('.png', '.jpg', '.jpeg', '.tiff', '.bmp', '.gif')):\n",
    "            input_path = os.path.join(input_folder, filename)\n",
    "            try:\n",
    "                image = Image.open(input_path)\n",
    "                width, height = image.size\n",
    "\n",
    "                # Calculate the height of each split\n",
    "                split_height = height // num_splits\n",
    "\n",
    "                # Split the image into 5 parts horizontally\n",
    "                for i in range(num_splits):\n",
    "                    top = i * split_height\n",
    "                    bottom = (i + 1) * split_height if i < num_splits - 1 else height\n",
    "\n",
    "                    # Define the bounding box for the slice\n",
    "                    box = (0, top, width, bottom)\n",
    "                    split_image = image.crop(box)\n",
    "\n",
    "                    # Save each slice\n",
    "                    output_path = os.path.join(output_folder, f\"{filename.rsplit('.', 1)[0]}_part_{i+1}.{filename.rsplit('.', 1)[1]}\")\n",
    "                    split_image.save(output_path, quality=95) # Adjust quality as needed\n",
    "                print(f\"Processed {filename}\")\n",
    "\n",
    "            except Exception as e:\n",
    "                print(f\"Error processing {filename}: {e}\")\n",
    "\n",
    "if __name__ == \"__main__\":\n",
    "    input_folder = \"annotation_dataset\"\n",
    "    output_folder = \"output_dir2\"\n",
    "    split_image_horizontally(input_folder, output_folder)\n"
   ]
  },
  {
   "cell_type": "code",
   "execution_count": null,
   "metadata": {},
   "outputs": [],
   "source": []
  },
  {
   "cell_type": "code",
   "execution_count": null,
   "metadata": {},
   "outputs": [],
   "source": []
  },
  {
   "cell_type": "code",
   "execution_count": null,
   "metadata": {},
   "outputs": [],
   "source": []
  },
  {
   "cell_type": "code",
   "execution_count": 10,
   "metadata": {},
   "outputs": [
    {
     "ename": "KeyboardInterrupt",
     "evalue": "",
     "output_type": "error",
     "traceback": [
      "\u001b[1;31m---------------------------------------------------------------------------\u001b[0m",
      "\u001b[1;31mKeyboardInterrupt\u001b[0m                         Traceback (most recent call last)",
      "Cell \u001b[1;32mIn[10], line 33\u001b[0m\n\u001b[0;32m     30\u001b[0m output_folder \u001b[38;5;241m=\u001b[39m \u001b[38;5;124m'\u001b[39m\u001b[38;5;124moutput_zoom\u001b[39m\u001b[38;5;124m'\u001b[39m\n\u001b[0;32m     31\u001b[0m zoom_factor \u001b[38;5;241m=\u001b[39m \u001b[38;5;241m1.5\u001b[39m  \u001b[38;5;66;03m# 1.5 times larger\u001b[39;00m\n\u001b[1;32m---> 33\u001b[0m \u001b[43mzoom_images\u001b[49m\u001b[43m(\u001b[49m\u001b[43minput_folder\u001b[49m\u001b[43m,\u001b[49m\u001b[43m \u001b[49m\u001b[43moutput_folder\u001b[49m\u001b[43m,\u001b[49m\u001b[43m \u001b[49m\u001b[43mzoom_factor\u001b[49m\u001b[43m)\u001b[49m\n",
      "Cell \u001b[1;32mIn[10], line 22\u001b[0m, in \u001b[0;36mzoom_images\u001b[1;34m(input_folder, output_folder, zoom_factor)\u001b[0m\n\u001b[0;32m     19\u001b[0m new_size \u001b[38;5;241m=\u001b[39m (\u001b[38;5;28mint\u001b[39m(img\u001b[38;5;241m.\u001b[39mwidth \u001b[38;5;241m*\u001b[39m zoom_factor), \u001b[38;5;28mint\u001b[39m(img\u001b[38;5;241m.\u001b[39mheight \u001b[38;5;241m*\u001b[39m zoom_factor))\n\u001b[0;32m     21\u001b[0m \u001b[38;5;66;03m# Resize the image\u001b[39;00m\n\u001b[1;32m---> 22\u001b[0m img_resized \u001b[38;5;241m=\u001b[39m \u001b[43mimg\u001b[49m\u001b[38;5;241;43m.\u001b[39;49m\u001b[43mresize\u001b[49m\u001b[43m(\u001b[49m\u001b[43mnew_size\u001b[49m\u001b[43m,\u001b[49m\u001b[43m \u001b[49m\u001b[43mImage\u001b[49m\u001b[38;5;241;43m.\u001b[39;49m\u001b[43mLANCZOS\u001b[49m\u001b[43m)\u001b[49m\n\u001b[0;32m     24\u001b[0m \u001b[38;5;66;03m# Save the resized image to the output folder\u001b[39;00m\n\u001b[0;32m     25\u001b[0m output_path \u001b[38;5;241m=\u001b[39m os\u001b[38;5;241m.\u001b[39mpath\u001b[38;5;241m.\u001b[39mjoin(output_folder, filename)\n",
      "File \u001b[1;32mc:\\Users\\Admin\\AppData\\Local\\Programs\\Python\\Python312\\Lib\\site-packages\\PIL\\Image.py:2177\u001b[0m, in \u001b[0;36mImage.resize\u001b[1;34m(self, size, resample, box, reducing_gap)\u001b[0m\n\u001b[0;32m   2175\u001b[0m \u001b[38;5;28;01mif\u001b[39;00m \u001b[38;5;28mself\u001b[39m\u001b[38;5;241m.\u001b[39mmode \u001b[38;5;129;01min\u001b[39;00m [\u001b[38;5;124m\"\u001b[39m\u001b[38;5;124mLA\u001b[39m\u001b[38;5;124m\"\u001b[39m, \u001b[38;5;124m\"\u001b[39m\u001b[38;5;124mRGBA\u001b[39m\u001b[38;5;124m\"\u001b[39m] \u001b[38;5;129;01mand\u001b[39;00m resample \u001b[38;5;241m!=\u001b[39m Resampling\u001b[38;5;241m.\u001b[39mNEAREST:\n\u001b[0;32m   2176\u001b[0m     im \u001b[38;5;241m=\u001b[39m \u001b[38;5;28mself\u001b[39m\u001b[38;5;241m.\u001b[39mconvert({\u001b[38;5;124m\"\u001b[39m\u001b[38;5;124mLA\u001b[39m\u001b[38;5;124m\"\u001b[39m: \u001b[38;5;124m\"\u001b[39m\u001b[38;5;124mLa\u001b[39m\u001b[38;5;124m\"\u001b[39m, \u001b[38;5;124m\"\u001b[39m\u001b[38;5;124mRGBA\u001b[39m\u001b[38;5;124m\"\u001b[39m: \u001b[38;5;124m\"\u001b[39m\u001b[38;5;124mRGBa\u001b[39m\u001b[38;5;124m\"\u001b[39m}[\u001b[38;5;28mself\u001b[39m\u001b[38;5;241m.\u001b[39mmode])\n\u001b[1;32m-> 2177\u001b[0m     im \u001b[38;5;241m=\u001b[39m \u001b[43mim\u001b[49m\u001b[38;5;241;43m.\u001b[39;49m\u001b[43mresize\u001b[49m\u001b[43m(\u001b[49m\u001b[43msize\u001b[49m\u001b[43m,\u001b[49m\u001b[43m \u001b[49m\u001b[43mresample\u001b[49m\u001b[43m,\u001b[49m\u001b[43m \u001b[49m\u001b[43mbox\u001b[49m\u001b[43m)\u001b[49m\n\u001b[0;32m   2178\u001b[0m     \u001b[38;5;28;01mreturn\u001b[39;00m im\u001b[38;5;241m.\u001b[39mconvert(\u001b[38;5;28mself\u001b[39m\u001b[38;5;241m.\u001b[39mmode)\n\u001b[0;32m   2180\u001b[0m \u001b[38;5;28mself\u001b[39m\u001b[38;5;241m.\u001b[39mload()\n",
      "File \u001b[1;32mc:\\Users\\Admin\\AppData\\Local\\Programs\\Python\\Python312\\Lib\\site-packages\\PIL\\Image.py:2199\u001b[0m, in \u001b[0;36mImage.resize\u001b[1;34m(self, size, resample, box, reducing_gap)\u001b[0m\n\u001b[0;32m   2191\u001b[0m             \u001b[38;5;28mself\u001b[39m \u001b[38;5;241m=\u001b[39m Image\u001b[38;5;241m.\u001b[39mreduce(\u001b[38;5;28mself\u001b[39m, factor, box\u001b[38;5;241m=\u001b[39mreduce_box)\n\u001b[0;32m   2192\u001b[0m         box \u001b[38;5;241m=\u001b[39m (\n\u001b[0;32m   2193\u001b[0m             (box[\u001b[38;5;241m0\u001b[39m] \u001b[38;5;241m-\u001b[39m reduce_box[\u001b[38;5;241m0\u001b[39m]) \u001b[38;5;241m/\u001b[39m factor_x,\n\u001b[0;32m   2194\u001b[0m             (box[\u001b[38;5;241m1\u001b[39m] \u001b[38;5;241m-\u001b[39m reduce_box[\u001b[38;5;241m1\u001b[39m]) \u001b[38;5;241m/\u001b[39m factor_y,\n\u001b[0;32m   2195\u001b[0m             (box[\u001b[38;5;241m2\u001b[39m] \u001b[38;5;241m-\u001b[39m reduce_box[\u001b[38;5;241m0\u001b[39m]) \u001b[38;5;241m/\u001b[39m factor_x,\n\u001b[0;32m   2196\u001b[0m             (box[\u001b[38;5;241m3\u001b[39m] \u001b[38;5;241m-\u001b[39m reduce_box[\u001b[38;5;241m1\u001b[39m]) \u001b[38;5;241m/\u001b[39m factor_y,\n\u001b[0;32m   2197\u001b[0m         )\n\u001b[1;32m-> 2199\u001b[0m \u001b[38;5;28;01mreturn\u001b[39;00m \u001b[38;5;28mself\u001b[39m\u001b[38;5;241m.\u001b[39m_new(\u001b[38;5;28;43mself\u001b[39;49m\u001b[38;5;241;43m.\u001b[39;49m\u001b[43mim\u001b[49m\u001b[38;5;241;43m.\u001b[39;49m\u001b[43mresize\u001b[49m\u001b[43m(\u001b[49m\u001b[43msize\u001b[49m\u001b[43m,\u001b[49m\u001b[43m \u001b[49m\u001b[43mresample\u001b[49m\u001b[43m,\u001b[49m\u001b[43m \u001b[49m\u001b[43mbox\u001b[49m\u001b[43m)\u001b[49m)\n",
      "\u001b[1;31mKeyboardInterrupt\u001b[0m: "
     ]
    }
   ],
   "source": [
    "from PIL import Image\n",
    "import os\n",
    "\n",
    "def zoom_images(input_folder, output_folder, zoom_factor):\n",
    "    # Create the output folder if it does not exist\n",
    "    if not os.path.exists(output_folder):\n",
    "        os.makedirs(output_folder)\n",
    "\n",
    "    # Iterate over all the images in the input folder\n",
    "    for filename in os.listdir(input_folder):\n",
    "        if filename.endswith(('.png', '.jpg', '.jpeg')):\n",
    "            # Construct the full file path\n",
    "            file_path = os.path.join(input_folder, filename)\n",
    "            \n",
    "            # Open the image\n",
    "            img = Image.open(file_path)\n",
    "            \n",
    "            # Calculate new size\n",
    "            new_size = (int(img.width * zoom_factor), int(img.height * zoom_factor))\n",
    "            \n",
    "            # Resize the image\n",
    "            img_resized = img.resize(new_size, Image.LANCZOS)\n",
    "            \n",
    "            # Save the resized image to the output folder\n",
    "            output_path = os.path.join(output_folder, filename)\n",
    "            img_resized.save(output_path)\n",
    "\n",
    "# Example usage\n",
    "input_folder = 'output_dir2'\n",
    "output_folder = 'output_zoom'\n",
    "zoom_factor = 1.5  # 1.5 times larger\n",
    "\n",
    "zoom_images(input_folder, output_folder, zoom_factor)\n"
   ]
  },
  {
   "cell_type": "code",
   "execution_count": 1,
   "metadata": {},
   "outputs": [],
   "source": [
    "from PIL import Image\n",
    "def zoom_image(input_path, output_path, zoom_factor):\n",
    "    # Open the image\n",
    "    img = Image.open(input_path)\n",
    "    \n",
    "    # Calculate the new size\n",
    "    new_size = (int(img.width * zoom_factor), int(img.height * zoom_factor))\n",
    "    \n",
    "    # Resize the image\n",
    "    img_resized = img.resize(new_size, Image.LANCZOS)\n",
    "    \n",
    "    # Save the resized image\n",
    "    img_resized.save(output_path)\n",
    "\n",
    "# Example usage\n",
    "input_path = 'input2.png'  # Update this path to your image file\n",
    "output_path = 'input2_2.png'  # Update this path to where you want to save the zoomed image\n",
    "zoom_factor = 20.0  # Adjust the zoom factor as needed (e.g., 2.0 will double the size)\n",
    "\n",
    "zoom_image(input_path, output_path,zoom_factor)\n"
   ]
  },
  {
   "cell_type": "code",
   "execution_count": 3,
   "metadata": {},
   "outputs": [],
   "source": [
    "from PIL import Image\n",
    "\n",
    "def resize_image(input_path, output_path, new_width, new_height):\n",
    "    # Open the image\n",
    "    img = Image.open(input_path)\n",
    "    \n",
    "    # Resize the image\n",
    "    img_resized = img.resize((new_width, new_height), Image.LANCZOS)\n",
    "    \n",
    "    # Save the resized image\n",
    "    img_resized.save(output_path)\n",
    "\n",
    "# Example usage\n",
    "input_path = 'input2.png'  # Update this path to your image file\n",
    "output_path = 'input2_3.png' # Update this path to where you want to save the resized image\n",
    "new_width = 3500  # Set the new width\n",
    "new_height = 2000  # Set the new height\n",
    "\n",
    "resize_image(input_path, output_path, new_width, new_height)\n"
   ]
  },
  {
   "cell_type": "code",
   "execution_count": 6,
   "metadata": {},
   "outputs": [],
   "source": [
    "def detect_logos(path):\n",
    "    \"\"\"Detects logos in the file.\"\"\"\n",
    "    from google.cloud import vision\n",
    "\n",
    "    client = vision.ImageAnnotatorClient()\n",
    "\n",
    "    with open(path, \"rb\") as image_file:\n",
    "        content = image_file.read()\n",
    "\n",
    "    image = vision.Image(content=content)\n",
    "\n",
    "    response = client.logo_detection(image=image)\n",
    "    logos = response.logo_annotations\n",
    "    print(\"Logos:\")\n",
    "\n",
    "    for logo in logos:\n",
    "        print(logo.description)\n",
    "\n",
    "    if response.error.message:\n",
    "        raise Exception(\n",
    "            \"{}\\nFor more info on error messages, check: \"\n",
    "            \"https://cloud.google.com/apis/design/errors\".format(response.error.message)\n",
    "        )\n"
   ]
  },
  {
   "cell_type": "code",
   "execution_count": 9,
   "metadata": {},
   "outputs": [
    {
     "name": "stdout",
     "output_type": "stream",
     "text": [
      "Logos:\n",
      "PayPal\n"
     ]
    }
   ],
   "source": [
    "import os\n",
    "os.environ[\"GOOGLE_APPLICATION_CREDENTIALS\"] = \"GCP_keys.json\"\n",
    "detect_logos(\"z_crop.JPG\")"
   ]
  },
  {
   "cell_type": "code",
   "execution_count": 4,
   "metadata": {},
   "outputs": [],
   "source": [
    "from PIL import Image\n",
    "\n",
    "def split_image_vertically(input_path):\n",
    "    # Open the image\n",
    "    img = Image.open(input_path)\n",
    "    \n",
    "    # Calculate the split point\n",
    "    width, height = img.size\n",
    "    split_width = width // 3  # Integer division to find the midpoint\n",
    "    \n",
    "    # Define the bounding box for the left half\n",
    "    left_half = (0, 0, split_width, height)\n",
    "    # Crop the left half\n",
    "    img_left_half = img.crop(left_half)\n",
    "    \n",
    "    # Define the bounding box for the right half\n",
    "    right_half = (split_width, 0, width, height)\n",
    "    # Crop the right half\n",
    "    img_right_half = img.crop(right_half)\n",
    "    \n",
    "    # Save the left half\n",
    "    img_left_half.save('left_half.png')\n",
    "    \n",
    "    # Save the right half\n",
    "    img_right_half.save('right_half.png')\n",
    "\n",
    "# Example usage\n",
    "input_path = 'input2.png'  # Update this path to your image file\n",
    "split_image_vertically(input_path)\n"
   ]
  },
  {
   "cell_type": "code",
   "execution_count": 11,
   "metadata": {},
   "outputs": [],
   "source": [
    "from vertexai.preview.generative_models import GenerativeModel\n",
    "\n",
    "# Load Gemini Pro Vision\n",
    "gemini_pro_vision_model = GenerativeModel(\"gemini-1.0-pro-vision\")"
   ]
  },
  {
   "cell_type": "code",
   "execution_count": 23,
   "metadata": {},
   "outputs": [
    {
     "data": {
      "text/plain": [
       "['Requirement already satisfied: google-cloud-aiplatform in c:\\\\users\\\\admin\\\\appdata\\\\local\\\\programs\\\\python\\\\python312\\\\lib\\\\site-packages (1.39.0)',\n",
       " 'Collecting google-cloud-aiplatform',\n",
       " '  Downloading google_cloud_aiplatform-1.42.0-py2.py3-none-any.whl.metadata (27 kB)',\n",
       " 'Requirement already satisfied: google-api-core!=2.0.*,!=2.1.*,!=2.2.*,!=2.3.*,!=2.4.*,!=2.5.*,!=2.6.*,!=2.7.*,<3.0.0dev,>=1.34.1 in c:\\\\users\\\\admin\\\\appdata\\\\local\\\\programs\\\\python\\\\python312\\\\lib\\\\site-packages (from google-api-core[grpc]!=2.0.*,!=2.1.*,!=2.2.*,!=2.3.*,!=2.4.*,!=2.5.*,!=2.6.*,!=2.7.*,<3.0.0dev,>=1.34.1->google-cloud-aiplatform) (2.15.0)',\n",
       " 'Requirement already satisfied: google-auth<3.0.0dev,>=2.14.1 in c:\\\\users\\\\admin\\\\appdata\\\\local\\\\programs\\\\python\\\\python312\\\\lib\\\\site-packages (from google-cloud-aiplatform) (2.25.2)',\n",
       " 'Requirement already satisfied: proto-plus<2.0.0dev,>=1.22.0 in c:\\\\users\\\\admin\\\\appdata\\\\local\\\\programs\\\\python\\\\python312\\\\lib\\\\site-packages (from google-cloud-aiplatform) (1.23.0)',\n",
       " 'Requirement already satisfied: protobuf!=3.20.0,!=3.20.1,!=4.21.0,!=4.21.1,!=4.21.2,!=4.21.3,!=4.21.4,!=4.21.5,<5.0.0dev,>=3.19.5 in c:\\\\users\\\\admin\\\\appdata\\\\local\\\\programs\\\\python\\\\python312\\\\lib\\\\site-packages (from google-cloud-aiplatform) (4.25.1)',\n",
       " 'Requirement already satisfied: packaging>=14.3 in c:\\\\users\\\\admin\\\\appdata\\\\roaming\\\\python\\\\python312\\\\site-packages (from google-cloud-aiplatform) (23.2)',\n",
       " 'Requirement already satisfied: google-cloud-storage<3.0.0dev,>=1.32.0 in c:\\\\users\\\\admin\\\\appdata\\\\local\\\\programs\\\\python\\\\python312\\\\lib\\\\site-packages (from google-cloud-aiplatform) (2.13.0)',\n",
       " 'Requirement already satisfied: google-cloud-bigquery<4.0.0dev,>=1.15.0 in c:\\\\users\\\\admin\\\\appdata\\\\local\\\\programs\\\\python\\\\python312\\\\lib\\\\site-packages (from google-cloud-aiplatform) (3.16.0)',\n",
       " 'Requirement already satisfied: google-cloud-resource-manager<3.0.0dev,>=1.3.3 in c:\\\\users\\\\admin\\\\appdata\\\\local\\\\programs\\\\python\\\\python312\\\\lib\\\\site-packages (from google-cloud-aiplatform) (1.11.0)',\n",
       " 'Requirement already satisfied: shapely<3.0.0dev in c:\\\\users\\\\admin\\\\appdata\\\\local\\\\programs\\\\python\\\\python312\\\\lib\\\\site-packages (from google-cloud-aiplatform) (2.0.2)',\n",
       " 'Requirement already satisfied: setuptools in c:\\\\users\\\\admin\\\\appdata\\\\local\\\\programs\\\\python\\\\python312\\\\lib\\\\site-packages (from google-cloud-aiplatform) (69.0.3)',\n",
       " 'Requirement already satisfied: googleapis-common-protos<2.0.dev0,>=1.56.2 in c:\\\\users\\\\admin\\\\appdata\\\\local\\\\programs\\\\python\\\\python312\\\\lib\\\\site-packages (from google-api-core!=2.0.*,!=2.1.*,!=2.2.*,!=2.3.*,!=2.4.*,!=2.5.*,!=2.6.*,!=2.7.*,<3.0.0dev,>=1.34.1->google-api-core[grpc]!=2.0.*,!=2.1.*,!=2.2.*,!=2.3.*,!=2.4.*,!=2.5.*,!=2.6.*,!=2.7.*,<3.0.0dev,>=1.34.1->google-cloud-aiplatform) (1.62.0)',\n",
       " 'Requirement already satisfied: requests<3.0.0.dev0,>=2.18.0 in c:\\\\users\\\\admin\\\\appdata\\\\local\\\\programs\\\\python\\\\python312\\\\lib\\\\site-packages (from google-api-core!=2.0.*,!=2.1.*,!=2.2.*,!=2.3.*,!=2.4.*,!=2.5.*,!=2.6.*,!=2.7.*,<3.0.0dev,>=1.34.1->google-api-core[grpc]!=2.0.*,!=2.1.*,!=2.2.*,!=2.3.*,!=2.4.*,!=2.5.*,!=2.6.*,!=2.7.*,<3.0.0dev,>=1.34.1->google-cloud-aiplatform) (2.31.0)',\n",
       " 'Requirement already satisfied: grpcio<2.0dev,>=1.33.2 in c:\\\\users\\\\admin\\\\appdata\\\\local\\\\programs\\\\python\\\\python312\\\\lib\\\\site-packages (from google-api-core[grpc]!=2.0.*,!=2.1.*,!=2.2.*,!=2.3.*,!=2.4.*,!=2.5.*,!=2.6.*,!=2.7.*,<3.0.0dev,>=1.34.1->google-cloud-aiplatform) (1.60.0)',\n",
       " 'Requirement already satisfied: grpcio-status<2.0.dev0,>=1.33.2 in c:\\\\users\\\\admin\\\\appdata\\\\local\\\\programs\\\\python\\\\python312\\\\lib\\\\site-packages (from google-api-core[grpc]!=2.0.*,!=2.1.*,!=2.2.*,!=2.3.*,!=2.4.*,!=2.5.*,!=2.6.*,!=2.7.*,<3.0.0dev,>=1.34.1->google-cloud-aiplatform) (1.60.0)',\n",
       " 'Requirement already satisfied: cachetools<6.0,>=2.0.0 in c:\\\\users\\\\admin\\\\appdata\\\\local\\\\programs\\\\python\\\\python312\\\\lib\\\\site-packages (from google-auth<3.0.0dev,>=2.14.1->google-cloud-aiplatform) (5.3.2)',\n",
       " 'Requirement already satisfied: pyasn1-modules>=0.2.1 in c:\\\\users\\\\admin\\\\appdata\\\\local\\\\programs\\\\python\\\\python312\\\\lib\\\\site-packages (from google-auth<3.0.0dev,>=2.14.1->google-cloud-aiplatform) (0.3.0)',\n",
       " 'Requirement already satisfied: rsa<5,>=3.1.4 in c:\\\\users\\\\admin\\\\appdata\\\\local\\\\programs\\\\python\\\\python312\\\\lib\\\\site-packages (from google-auth<3.0.0dev,>=2.14.1->google-cloud-aiplatform) (4.9)',\n",
       " 'Requirement already satisfied: google-cloud-core<3.0.0dev,>=1.6.0 in c:\\\\users\\\\admin\\\\appdata\\\\local\\\\programs\\\\python\\\\python312\\\\lib\\\\site-packages (from google-cloud-bigquery<4.0.0dev,>=1.15.0->google-cloud-aiplatform) (2.4.1)',\n",
       " 'Requirement already satisfied: google-resumable-media<3.0dev,>=0.6.0 in c:\\\\users\\\\admin\\\\appdata\\\\local\\\\programs\\\\python\\\\python312\\\\lib\\\\site-packages (from google-cloud-bigquery<4.0.0dev,>=1.15.0->google-cloud-aiplatform) (2.6.0)',\n",
       " 'Requirement already satisfied: python-dateutil<3.0dev,>=2.7.2 in c:\\\\users\\\\admin\\\\appdata\\\\roaming\\\\python\\\\python312\\\\site-packages (from google-cloud-bigquery<4.0.0dev,>=1.15.0->google-cloud-aiplatform) (2.8.2)',\n",
       " 'Requirement already satisfied: grpc-google-iam-v1<1.0.0dev,>=0.12.4 in c:\\\\users\\\\admin\\\\appdata\\\\local\\\\programs\\\\python\\\\python312\\\\lib\\\\site-packages (from google-cloud-resource-manager<3.0.0dev,>=1.3.3->google-cloud-aiplatform) (0.13.0)',\n",
       " 'Requirement already satisfied: google-crc32c<2.0dev,>=1.0 in c:\\\\users\\\\admin\\\\appdata\\\\local\\\\programs\\\\python\\\\python312\\\\lib\\\\site-packages (from google-cloud-storage<3.0.0dev,>=1.32.0->google-cloud-aiplatform) (1.5.0)',\n",
       " 'Requirement already satisfied: numpy>=1.14 in c:\\\\users\\\\admin\\\\appdata\\\\local\\\\programs\\\\python\\\\python312\\\\lib\\\\site-packages (from shapely<3.0.0dev->google-cloud-aiplatform) (1.26.2)',\n",
       " 'Requirement already satisfied: pyasn1<0.6.0,>=0.4.6 in c:\\\\users\\\\admin\\\\appdata\\\\local\\\\programs\\\\python\\\\python312\\\\lib\\\\site-packages (from pyasn1-modules>=0.2.1->google-auth<3.0.0dev,>=2.14.1->google-cloud-aiplatform) (0.5.1)',\n",
       " 'Requirement already satisfied: six>=1.5 in c:\\\\users\\\\admin\\\\appdata\\\\roaming\\\\python\\\\python312\\\\site-packages (from python-dateutil<3.0dev,>=2.7.2->google-cloud-bigquery<4.0.0dev,>=1.15.0->google-cloud-aiplatform) (1.16.0)',\n",
       " 'Requirement already satisfied: charset-normalizer<4,>=2 in c:\\\\users\\\\admin\\\\appdata\\\\local\\\\programs\\\\python\\\\python312\\\\lib\\\\site-packages (from requests<3.0.0.dev0,>=2.18.0->google-api-core!=2.0.*,!=2.1.*,!=2.2.*,!=2.3.*,!=2.4.*,!=2.5.*,!=2.6.*,!=2.7.*,<3.0.0dev,>=1.34.1->google-api-core[grpc]!=2.0.*,!=2.1.*,!=2.2.*,!=2.3.*,!=2.4.*,!=2.5.*,!=2.6.*,!=2.7.*,<3.0.0dev,>=1.34.1->google-cloud-aiplatform) (3.3.2)',\n",
       " 'Requirement already satisfied: idna<4,>=2.5 in c:\\\\users\\\\admin\\\\appdata\\\\local\\\\programs\\\\python\\\\python312\\\\lib\\\\site-packages (from requests<3.0.0.dev0,>=2.18.0->google-api-core!=2.0.*,!=2.1.*,!=2.2.*,!=2.3.*,!=2.4.*,!=2.5.*,!=2.6.*,!=2.7.*,<3.0.0dev,>=1.34.1->google-api-core[grpc]!=2.0.*,!=2.1.*,!=2.2.*,!=2.3.*,!=2.4.*,!=2.5.*,!=2.6.*,!=2.7.*,<3.0.0dev,>=1.34.1->google-cloud-aiplatform) (3.6)',\n",
       " 'Requirement already satisfied: urllib3<3,>=1.21.1 in c:\\\\users\\\\admin\\\\appdata\\\\local\\\\programs\\\\python\\\\python312\\\\lib\\\\site-packages (from requests<3.0.0.dev0,>=2.18.0->google-api-core!=2.0.*,!=2.1.*,!=2.2.*,!=2.3.*,!=2.4.*,!=2.5.*,!=2.6.*,!=2.7.*,<3.0.0dev,>=1.34.1->google-api-core[grpc]!=2.0.*,!=2.1.*,!=2.2.*,!=2.3.*,!=2.4.*,!=2.5.*,!=2.6.*,!=2.7.*,<3.0.0dev,>=1.34.1->google-cloud-aiplatform) (2.1.0)',\n",
       " 'Requirement already satisfied: certifi>=2017.4.17 in c:\\\\users\\\\admin\\\\appdata\\\\local\\\\programs\\\\python\\\\python312\\\\lib\\\\site-packages (from requests<3.0.0.dev0,>=2.18.0->google-api-core!=2.0.*,!=2.1.*,!=2.2.*,!=2.3.*,!=2.4.*,!=2.5.*,!=2.6.*,!=2.7.*,<3.0.0dev,>=1.34.1->google-api-core[grpc]!=2.0.*,!=2.1.*,!=2.2.*,!=2.3.*,!=2.4.*,!=2.5.*,!=2.6.*,!=2.7.*,<3.0.0dev,>=1.34.1->google-cloud-aiplatform) (2023.11.17)',\n",
       " 'Downloading google_cloud_aiplatform-1.42.0-py2.py3-none-any.whl (3.5 MB)',\n",
       " '   ---------------------------------------- 0.0/3.5 MB ? eta -:--:--',\n",
       " '    --------------------------------------- 0.1/3.5 MB 1.7 MB/s eta 0:00:03',\n",
       " '   ------- -------------------------------- 0.6/3.5 MB 8.1 MB/s eta 0:00:01',\n",
       " '   ---------------- ----------------------- 1.4/3.5 MB 11.1 MB/s eta 0:00:01',\n",
       " '   ----------------------- ---------------- 2.1/3.5 MB 11.9 MB/s eta 0:00:01',\n",
       " '   -------------------------------- ------- 2.8/3.5 MB 13.0 MB/s eta 0:00:01',\n",
       " '   ---------------------------------------  3.5/3.5 MB 14.0 MB/s eta 0:00:01',\n",
       " '   ---------------------------------------  3.5/3.5 MB 14.0 MB/s eta 0:00:01',\n",
       " '   ---------------------------------------- 3.5/3.5 MB 11.2 MB/s eta 0:00:00',\n",
       " 'Installing collected packages: google-cloud-aiplatform',\n",
       " 'Successfully installed google-cloud-aiplatform-1.42.0']"
      ]
     },
     "execution_count": 23,
     "metadata": {},
     "output_type": "execute_result"
    }
   ],
   "source": [
    "!! pip3 install --upgrade --user google-cloud-aiplatform\n"
   ]
  },
  {
   "cell_type": "code",
   "execution_count": 35,
   "metadata": {},
   "outputs": [
    {
     "name": "stdout",
     "output_type": "stream",
     "text": [
      "Requirement already satisfied: google-cloud-aiplatform in c:\\users\\admin\\appdata\\roaming\\python\\python312\\site-packages (1.42.0)\n",
      "Requirement already satisfied: google-api-core!=2.0.*,!=2.1.*,!=2.2.*,!=2.3.*,!=2.4.*,!=2.5.*,!=2.6.*,!=2.7.*,<3.0.0dev,>=1.34.1 in c:\\users\\admin\\appdata\\local\\programs\\python\\python312\\lib\\site-packages (from google-api-core[grpc]!=2.0.*,!=2.1.*,!=2.2.*,!=2.3.*,!=2.4.*,!=2.5.*,!=2.6.*,!=2.7.*,<3.0.0dev,>=1.34.1->google-cloud-aiplatform) (2.15.0)\n",
      "Requirement already satisfied: google-auth<3.0.0dev,>=2.14.1 in c:\\users\\admin\\appdata\\local\\programs\\python\\python312\\lib\\site-packages (from google-cloud-aiplatform) (2.25.2)\n",
      "Requirement already satisfied: proto-plus<2.0.0dev,>=1.22.0 in c:\\users\\admin\\appdata\\local\\programs\\python\\python312\\lib\\site-packages (from google-cloud-aiplatform) (1.23.0)\n",
      "Requirement already satisfied: protobuf!=3.20.0,!=3.20.1,!=4.21.0,!=4.21.1,!=4.21.2,!=4.21.3,!=4.21.4,!=4.21.5,<5.0.0dev,>=3.19.5 in c:\\users\\admin\\appdata\\local\\programs\\python\\python312\\lib\\site-packages (from google-cloud-aiplatform) (4.25.1)\n",
      "Requirement already satisfied: packaging>=14.3 in c:\\users\\admin\\appdata\\roaming\\python\\python312\\site-packages (from google-cloud-aiplatform) (23.2)\n",
      "Requirement already satisfied: google-cloud-storage<3.0.0dev,>=1.32.0 in c:\\users\\admin\\appdata\\local\\programs\\python\\python312\\lib\\site-packages (from google-cloud-aiplatform) (2.13.0)\n",
      "Requirement already satisfied: google-cloud-bigquery<4.0.0dev,>=1.15.0 in c:\\users\\admin\\appdata\\local\\programs\\python\\python312\\lib\\site-packages (from google-cloud-aiplatform) (3.16.0)\n",
      "Requirement already satisfied: google-cloud-resource-manager<3.0.0dev,>=1.3.3 in c:\\users\\admin\\appdata\\local\\programs\\python\\python312\\lib\\site-packages (from google-cloud-aiplatform) (1.11.0)\n",
      "Requirement already satisfied: shapely<3.0.0dev in c:\\users\\admin\\appdata\\local\\programs\\python\\python312\\lib\\site-packages (from google-cloud-aiplatform) (2.0.2)\n",
      "Requirement already satisfied: setuptools in c:\\users\\admin\\appdata\\local\\programs\\python\\python312\\lib\\site-packages (from google-cloud-aiplatform) (69.0.3)\n",
      "Requirement already satisfied: googleapis-common-protos<2.0.dev0,>=1.56.2 in c:\\users\\admin\\appdata\\local\\programs\\python\\python312\\lib\\site-packages (from google-api-core!=2.0.*,!=2.1.*,!=2.2.*,!=2.3.*,!=2.4.*,!=2.5.*,!=2.6.*,!=2.7.*,<3.0.0dev,>=1.34.1->google-api-core[grpc]!=2.0.*,!=2.1.*,!=2.2.*,!=2.3.*,!=2.4.*,!=2.5.*,!=2.6.*,!=2.7.*,<3.0.0dev,>=1.34.1->google-cloud-aiplatform) (1.62.0)\n",
      "Requirement already satisfied: requests<3.0.0.dev0,>=2.18.0 in c:\\users\\admin\\appdata\\local\\programs\\python\\python312\\lib\\site-packages (from google-api-core!=2.0.*,!=2.1.*,!=2.2.*,!=2.3.*,!=2.4.*,!=2.5.*,!=2.6.*,!=2.7.*,<3.0.0dev,>=1.34.1->google-api-core[grpc]!=2.0.*,!=2.1.*,!=2.2.*,!=2.3.*,!=2.4.*,!=2.5.*,!=2.6.*,!=2.7.*,<3.0.0dev,>=1.34.1->google-cloud-aiplatform) (2.31.0)\n",
      "Requirement already satisfied: grpcio<2.0dev,>=1.33.2 in c:\\users\\admin\\appdata\\local\\programs\\python\\python312\\lib\\site-packages (from google-api-core[grpc]!=2.0.*,!=2.1.*,!=2.2.*,!=2.3.*,!=2.4.*,!=2.5.*,!=2.6.*,!=2.7.*,<3.0.0dev,>=1.34.1->google-cloud-aiplatform) (1.60.0)\n",
      "Requirement already satisfied: grpcio-status<2.0.dev0,>=1.33.2 in c:\\users\\admin\\appdata\\local\\programs\\python\\python312\\lib\\site-packages (from google-api-core[grpc]!=2.0.*,!=2.1.*,!=2.2.*,!=2.3.*,!=2.4.*,!=2.5.*,!=2.6.*,!=2.7.*,<3.0.0dev,>=1.34.1->google-cloud-aiplatform) (1.60.0)\n",
      "Requirement already satisfied: cachetools<6.0,>=2.0.0 in c:\\users\\admin\\appdata\\local\\programs\\python\\python312\\lib\\site-packages (from google-auth<3.0.0dev,>=2.14.1->google-cloud-aiplatform) (5.3.2)\n",
      "Requirement already satisfied: pyasn1-modules>=0.2.1 in c:\\users\\admin\\appdata\\local\\programs\\python\\python312\\lib\\site-packages (from google-auth<3.0.0dev,>=2.14.1->google-cloud-aiplatform) (0.3.0)\n",
      "Requirement already satisfied: rsa<5,>=3.1.4 in c:\\users\\admin\\appdata\\local\\programs\\python\\python312\\lib\\site-packages (from google-auth<3.0.0dev,>=2.14.1->google-cloud-aiplatform) (4.9)\n",
      "Requirement already satisfied: google-cloud-core<3.0.0dev,>=1.6.0 in c:\\users\\admin\\appdata\\local\\programs\\python\\python312\\lib\\site-packages (from google-cloud-bigquery<4.0.0dev,>=1.15.0->google-cloud-aiplatform) (2.4.1)\n",
      "Requirement already satisfied: google-resumable-media<3.0dev,>=0.6.0 in c:\\users\\admin\\appdata\\local\\programs\\python\\python312\\lib\\site-packages (from google-cloud-bigquery<4.0.0dev,>=1.15.0->google-cloud-aiplatform) (2.6.0)\n",
      "Requirement already satisfied: python-dateutil<3.0dev,>=2.7.2 in c:\\users\\admin\\appdata\\roaming\\python\\python312\\site-packages (from google-cloud-bigquery<4.0.0dev,>=1.15.0->google-cloud-aiplatform) (2.8.2)\n",
      "Requirement already satisfied: grpc-google-iam-v1<1.0.0dev,>=0.12.4 in c:\\users\\admin\\appdata\\local\\programs\\python\\python312\\lib\\site-packages (from google-cloud-resource-manager<3.0.0dev,>=1.3.3->google-cloud-aiplatform) (0.13.0)\n",
      "Requirement already satisfied: google-crc32c<2.0dev,>=1.0 in c:\\users\\admin\\appdata\\local\\programs\\python\\python312\\lib\\site-packages (from google-cloud-storage<3.0.0dev,>=1.32.0->google-cloud-aiplatform) (1.5.0)\n",
      "Requirement already satisfied: numpy>=1.14 in c:\\users\\admin\\appdata\\local\\programs\\python\\python312\\lib\\site-packages (from shapely<3.0.0dev->google-cloud-aiplatform) (1.26.2)\n",
      "Requirement already satisfied: pyasn1<0.6.0,>=0.4.6 in c:\\users\\admin\\appdata\\local\\programs\\python\\python312\\lib\\site-packages (from pyasn1-modules>=0.2.1->google-auth<3.0.0dev,>=2.14.1->google-cloud-aiplatform) (0.5.1)\n",
      "Requirement already satisfied: six>=1.5 in c:\\users\\admin\\appdata\\roaming\\python\\python312\\site-packages (from python-dateutil<3.0dev,>=2.7.2->google-cloud-bigquery<4.0.0dev,>=1.15.0->google-cloud-aiplatform) (1.16.0)\n",
      "Requirement already satisfied: charset-normalizer<4,>=2 in c:\\users\\admin\\appdata\\local\\programs\\python\\python312\\lib\\site-packages (from requests<3.0.0.dev0,>=2.18.0->google-api-core!=2.0.*,!=2.1.*,!=2.2.*,!=2.3.*,!=2.4.*,!=2.5.*,!=2.6.*,!=2.7.*,<3.0.0dev,>=1.34.1->google-api-core[grpc]!=2.0.*,!=2.1.*,!=2.2.*,!=2.3.*,!=2.4.*,!=2.5.*,!=2.6.*,!=2.7.*,<3.0.0dev,>=1.34.1->google-cloud-aiplatform) (3.3.2)\n",
      "Requirement already satisfied: idna<4,>=2.5 in c:\\users\\admin\\appdata\\local\\programs\\python\\python312\\lib\\site-packages (from requests<3.0.0.dev0,>=2.18.0->google-api-core!=2.0.*,!=2.1.*,!=2.2.*,!=2.3.*,!=2.4.*,!=2.5.*,!=2.6.*,!=2.7.*,<3.0.0dev,>=1.34.1->google-api-core[grpc]!=2.0.*,!=2.1.*,!=2.2.*,!=2.3.*,!=2.4.*,!=2.5.*,!=2.6.*,!=2.7.*,<3.0.0dev,>=1.34.1->google-cloud-aiplatform) (3.6)\n",
      "Requirement already satisfied: urllib3<3,>=1.21.1 in c:\\users\\admin\\appdata\\local\\programs\\python\\python312\\lib\\site-packages (from requests<3.0.0.dev0,>=2.18.0->google-api-core!=2.0.*,!=2.1.*,!=2.2.*,!=2.3.*,!=2.4.*,!=2.5.*,!=2.6.*,!=2.7.*,<3.0.0dev,>=1.34.1->google-api-core[grpc]!=2.0.*,!=2.1.*,!=2.2.*,!=2.3.*,!=2.4.*,!=2.5.*,!=2.6.*,!=2.7.*,<3.0.0dev,>=1.34.1->google-cloud-aiplatform) (2.1.0)\n",
      "Requirement already satisfied: certifi>=2017.4.17 in c:\\users\\admin\\appdata\\local\\programs\\python\\python312\\lib\\site-packages (from requests<3.0.0.dev0,>=2.18.0->google-api-core!=2.0.*,!=2.1.*,!=2.2.*,!=2.3.*,!=2.4.*,!=2.5.*,!=2.6.*,!=2.7.*,<3.0.0dev,>=1.34.1->google-api-core[grpc]!=2.0.*,!=2.1.*,!=2.2.*,!=2.3.*,!=2.4.*,!=2.5.*,!=2.6.*,!=2.7.*,<3.0.0dev,>=1.34.1->google-cloud-aiplatform) (2023.11.17)\n"
     ]
    }
   ],
   "source": [
    "! pip3 install --upgrade --user google-cloud-aiplatform\n"
   ]
  },
  {
   "cell_type": "code",
   "execution_count": 32,
   "metadata": {},
   "outputs": [
    {
     "name": "stdout",
     "output_type": "stream",
     "text": [
      "Requirement already satisfied: vertexai in c:\\users\\admin\\appdata\\local\\programs\\python\\python312\\lib\\site-packages (0.0.1)\n"
     ]
    }
   ],
   "source": [
    "!pip install --upgrade vertexai"
   ]
  },
  {
   "cell_type": "code",
   "execution_count": 34,
   "metadata": {},
   "outputs": [
    {
     "name": "stderr",
     "output_type": "stream",
     "text": [
      "ERROR: Could not find a version that satisfies the requirement vertexai.generative_models (from versions: none)\n",
      "ERROR: No matching distribution found for vertexai.generative_models\n"
     ]
    }
   ],
   "source": [
    "!pip install vertexai.generative_models"
   ]
  },
  {
   "cell_type": "code",
   "execution_count": 4,
   "metadata": {},
   "outputs": [],
   "source": [
    "import os\n",
    "os.environ[\"GOOGLE_APPLICATION_CREDENTIALS\"] = \"GCP_keys3.json\"\n"
   ]
  },
  {
   "cell_type": "code",
   "execution_count": 5,
   "metadata": {},
   "outputs": [],
   "source": [
    "import vertexai\n",
    "\n",
    "vertexai.init(project='jovial-circuit-412017', location='us-central1')\n"
   ]
  },
  {
   "cell_type": "code",
   "execution_count": 6,
   "metadata": {},
   "outputs": [
    {
     "name": "stdout",
     "output_type": "stream",
     "text": [
      "model_response\n",
      " <generator object _GenerativeModel._generate_content_streaming at 0x000001CF41F53230>\n"
     ]
    }
   ],
   "source": [
    "from google.cloud import aiplatform\n",
    "\n",
    "from vertexai.preview.generative_models import GenerativeModel\n",
    "from vertexai.preview.generative_models import Part\n",
    "from PIL import Image as PIL_Image\n",
    "from PIL import ImageOps as PIL_ImageOps\n",
    "\n",
    "\n",
    "from vertexai.preview.generative_models import (\n",
    "    GenerationConfig,\n",
    "    GenerativeModel,\n",
    "    Image,\n",
    "    Part,\n",
    ")\n",
    "\n",
    "\n",
    "\n",
    "\n",
    "image = Image.load_from_file(\"left_half.png\")\n",
    "\n",
    "gemini_pro_vision_model = GenerativeModel(\"gemini-1.0-pro-vision\")\n",
    "#image = generative_models.Part.from_uri(\"gs://cloud-samples-data/ai-platform/flowers/daisy/10559679065_50d2b16f6d.jpg\", mime_type=\"image/jpeg\")\n",
    "\n",
    "model_response = gemini_pro_vision_model.generate_content([\"what icons are in this image ?, list them all\", image],stream=True)\n",
    "print(\"model_response\\n\",model_response)"
   ]
  },
  {
   "cell_type": "code",
   "execution_count": 7,
   "metadata": {},
   "outputs": [
    {
     "name": "stdout",
     "output_type": "stream",
     "text": [
      " - GeoTrust Secured\n",
      "- Visa\n",
      "- Mastercard\n",
      "- Discover\n",
      "- American Express\n",
      "- Paypal\n",
      "- Apple Pay\n"
     ]
    }
   ],
   "source": [
    "for response in model_response:\n",
    "    print(response.text)"
   ]
  },
  {
   "cell_type": "code",
   "execution_count": 8,
   "metadata": {},
   "outputs": [
    {
     "ename": "AttributeError",
     "evalue": "'generator' object has no attribute 'resolve'",
     "output_type": "error",
     "traceback": [
      "\u001b[1;31m---------------------------------------------------------------------------\u001b[0m",
      "\u001b[1;31mAttributeError\u001b[0m                            Traceback (most recent call last)",
      "Cell \u001b[1;32mIn[8], line 1\u001b[0m\n\u001b[1;32m----> 1\u001b[0m \u001b[43mmodel_response\u001b[49m\u001b[38;5;241;43m.\u001b[39;49m\u001b[43mresolve\u001b[49m()\n\u001b[0;32m      2\u001b[0m model_response_text\u001b[38;5;241m=\u001b[39mmodel_response\u001b[38;5;241m.\u001b[39mtext\n",
      "\u001b[1;31mAttributeError\u001b[0m: 'generator' object has no attribute 'resolve'"
     ]
    }
   ],
   "source": []
  },
  {
   "cell_type": "code",
   "execution_count": 32,
   "metadata": {},
   "outputs": [],
   "source": []
  },
  {
   "cell_type": "code",
   "execution_count": 3,
   "metadata": {},
   "outputs": [
    {
     "name": "stderr",
     "output_type": "stream",
     "text": [
      "c:\\Users\\Admin\\AppData\\Local\\Programs\\Python\\Python312\\Lib\\site-packages\\tqdm\\auto.py:21: TqdmWarning: IProgress not found. Please update jupyter and ipywidgets. See https://ipywidgets.readthedocs.io/en/stable/user_install.html\n",
      "  from .autonotebook import tqdm as notebook_tqdm\n"
     ]
    }
   ],
   "source": [
    "# image_analysis.py\n",
    "from google.cloud import aiplatform\n",
    "import vertexai\n",
    "from vertexai.preview.generative_models import GenerativeModel\n",
    "import os \n",
    "import pandas as pd\n",
    "from io import BytesIO\n",
    "#from PIL import Image\n",
    "import google.ai.generativelanguage as glm\n",
    "import google.generativeai as genai\n",
    "import io\n",
    "import streamlit as st\n",
    "os.environ[\"GOOGLE_APPLICATION_CREDENTIALS\"] = \"GCP_keys3.json\"\n",
    "#from PIL import Image\n",
    "from google.cloud import aiplatform\n",
    "\n",
    "\n",
    "from vertexai.preview.generative_models import (\n",
    "    GenerationConfig,\n",
    "    GenerativeModel,\n",
    "    Part,\n",
    "    Image,\n",
    ")\n",
    "\n",
    "from vertexai.preview.generative_models import GenerativeModel\n",
    "from vertexai.preview.generative_models import Part\n",
    "from PIL import Image as PIL_Image\n",
    "from PIL import ImageOps as PIL_ImageOps\n",
    "\n",
    "\n",
    "PIL_Image.MAX_IMAGE_PIXELS = None  # Disable the limit (not recommended for untrusted images)\n"
   ]
  },
  {
   "cell_type": "code",
   "execution_count": 36,
   "metadata": {},
   "outputs": [],
   "source": [
    "os.environ[\"GOOGLE_APPLICATION_CREDENTIALS\"] = \"GCP_keys3.json\"\n"
   ]
  },
  {
   "cell_type": "code",
   "execution_count": 30,
   "metadata": {},
   "outputs": [],
   "source": [
    "init_vertex_ai(GOOGLE_PROJECT_ID, VERTEX_AI_REGION)"
   ]
  },
  {
   "cell_type": "code",
   "execution_count": null,
   "metadata": {},
   "outputs": [],
   "source": [
    "def init_vertex_ai(project_id, region):\n",
    "    vertexai.init(project=project_id, location=region,api_endpoint='us-central1-aiplatform.googleapis.com')\n"
   ]
  },
  {
   "cell_type": "code",
   "execution_count": 14,
   "metadata": {},
   "outputs": [],
   "source": [
    "from PIL import Image as PIL_Image\n",
    "#from some_module import GenerativeModel, Image  # Assuming these are coming from a specific library\n",
    "\n",
    "def analyze_image2(prompt, image_path):\n",
    "    # Open the image from the path\n",
    "    image = PIL_Image.open(image_path)\n",
    "    \n",
    "    # Check the image size and thumbnail if necessary\n",
    "    width, height = image.size\n",
    "    if width > 1024 or height > 1024:\n",
    "        image.thumbnail((1024, 1024))\n",
    "    \n",
    "    # Convert the image to RGB if it's not already in that mode\n",
    "    if image.mode in (\"RGBA\", \"LA\"):\n",
    "        background = PIL_Image.new(image.mode[:-1], image.size, (255, 255, 255))\n",
    "        background.paste(image, image.split()[-1])\n",
    "        image = background.convert(\"RGB\")\n",
    "    else:\n",
    "        image = image.convert(\"RGB\")\n",
    "    \n",
    "    # Save the processed image\n",
    "    save_path = \"save_path.jpg\"\n",
    "    image.save(save_path)\n",
    "\n",
    "    # Assuming there's a way to load the image into your model, \n",
    "    # which might look something like this\n",
    "    # Note: This part is pseudo-code since the exact implementation depends on your setup\n",
    "    image_for_model = Image.load_from_file(save_path)  # This needs to be replaced with your actual method\n",
    "\n",
    "    # Again assuming the existence of a GenerativeModel class\n",
    "    gemini_pro_vision_model = GenerativeModel(\"gemini-1.0-pro-vision\")\n",
    "\n",
    "    # Generate content using the model\n",
    "    # This is also pseudo-code and will depend on the specifics of your library/setup\n",
    "    model_response = gemini_pro_vision_model.generate_content([prompt, image_for_model], stream=True)\n",
    "    \n",
    "    # Process model response\n",
    "    temp_list = [response.text for response in model_response]  # Assuming this is how you get text from responses\n",
    "    response_text = ''.join(temp_list)\n",
    "\n",
    "    return response_text\n"
   ]
  },
  {
   "cell_type": "code",
   "execution_count": 15,
   "metadata": {},
   "outputs": [],
   "source": [
    "text=analyze_image2(\"what is this ?\",\"left_half.png\")"
   ]
  },
  {
   "cell_type": "code",
   "execution_count": 16,
   "metadata": {},
   "outputs": [
    {
     "data": {
      "text/plain": [
       "' This is a security badge that is used to show that a website is secure and that it uses a secure payment method.'"
      ]
     },
     "execution_count": 16,
     "metadata": {},
     "output_type": "execute_result"
    }
   ],
   "source": [
    "text"
   ]
  },
  {
   "cell_type": "code",
   "execution_count": null,
   "metadata": {},
   "outputs": [],
   "source": []
  }
 ],
 "metadata": {
  "kernelspec": {
   "display_name": "Python 3",
   "language": "python",
   "name": "python3"
  },
  "language_info": {
   "codemirror_mode": {
    "name": "ipython",
    "version": 3
   },
   "file_extension": ".py",
   "mimetype": "text/x-python",
   "name": "python",
   "nbconvert_exporter": "python",
   "pygments_lexer": "ipython3",
   "version": "3.12.0"
  }
 },
 "nbformat": 4,
 "nbformat_minor": 2
}
